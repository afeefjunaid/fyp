{
 "cells": [
  {
   "cell_type": "code",
   "execution_count": 4,
   "id": "312e53ff",
   "metadata": {},
   "outputs": [
    {
     "name": "stdout",
     "output_type": "stream",
     "text": [
      "\n",
      "========== Training with No Augmentation ==========\n"
     ]
    },
    {
     "name": "stderr",
     "output_type": "stream",
     "text": [
      "d:\\sadia\\resnet\\model\\venv\\Lib\\site-packages\\torchvision\\models\\_utils.py:208: UserWarning: The parameter 'pretrained' is deprecated since 0.13 and may be removed in the future, please use 'weights' instead.\n",
      "  warnings.warn(\n",
      "d:\\sadia\\resnet\\model\\venv\\Lib\\site-packages\\torchvision\\models\\_utils.py:223: UserWarning: Arguments other than a weight enum or `None` for 'weights' are deprecated since 0.13 and may be removed in the future. The current behavior is equivalent to passing `weights=ResNet18_Weights.IMAGENET1K_V1`. You can also use `weights=ResNet18_Weights.DEFAULT` to get the most up-to-date weights.\n",
      "  warnings.warn(msg)\n",
      "d:\\sadia\\resnet\\model\\venv\\Lib\\site-packages\\PIL\\Image.py:1054: UserWarning: Palette images with Transparency expressed in bytes should be converted to RGBA images\n",
      "  warnings.warn(\n"
     ]
    },
    {
     "name": "stdout",
     "output_type": "stream",
     "text": [
      "Epoch 01 | Train Acc: 0.7319 | Val Acc: 0.6461\n"
     ]
    },
    {
     "name": "stderr",
     "output_type": "stream",
     "text": [
      "d:\\sadia\\resnet\\model\\venv\\Lib\\site-packages\\PIL\\Image.py:1054: UserWarning: Palette images with Transparency expressed in bytes should be converted to RGBA images\n",
      "  warnings.warn(\n"
     ]
    },
    {
     "name": "stdout",
     "output_type": "stream",
     "text": [
      "Epoch 02 | Train Acc: 0.7937 | Val Acc: 0.6397\n"
     ]
    },
    {
     "name": "stderr",
     "output_type": "stream",
     "text": [
      "d:\\sadia\\resnet\\model\\venv\\Lib\\site-packages\\PIL\\Image.py:1054: UserWarning: Palette images with Transparency expressed in bytes should be converted to RGBA images\n",
      "  warnings.warn(\n"
     ]
    },
    {
     "name": "stdout",
     "output_type": "stream",
     "text": [
      "Epoch 03 | Train Acc: 0.8022 | Val Acc: 0.7996\n"
     ]
    },
    {
     "name": "stderr",
     "output_type": "stream",
     "text": [
      "d:\\sadia\\resnet\\model\\venv\\Lib\\site-packages\\PIL\\Image.py:1054: UserWarning: Palette images with Transparency expressed in bytes should be converted to RGBA images\n",
      "  warnings.warn(\n"
     ]
    },
    {
     "name": "stdout",
     "output_type": "stream",
     "text": [
      "Epoch 04 | Train Acc: 0.8316 | Val Acc: 0.8060\n"
     ]
    },
    {
     "name": "stderr",
     "output_type": "stream",
     "text": [
      "d:\\sadia\\resnet\\model\\venv\\Lib\\site-packages\\PIL\\Image.py:1054: UserWarning: Palette images with Transparency expressed in bytes should be converted to RGBA images\n",
      "  warnings.warn(\n"
     ]
    },
    {
     "name": "stdout",
     "output_type": "stream",
     "text": [
      "Epoch 05 | Train Acc: 0.8545 | Val Acc: 0.7505\n"
     ]
    },
    {
     "name": "stderr",
     "output_type": "stream",
     "text": [
      "d:\\sadia\\resnet\\model\\venv\\Lib\\site-packages\\PIL\\Image.py:1054: UserWarning: Palette images with Transparency expressed in bytes should be converted to RGBA images\n",
      "  warnings.warn(\n"
     ]
    },
    {
     "name": "stdout",
     "output_type": "stream",
     "text": [
      "Epoch 06 | Train Acc: 0.8897 | Val Acc: 0.8166\n"
     ]
    },
    {
     "name": "stderr",
     "output_type": "stream",
     "text": [
      "d:\\sadia\\resnet\\model\\venv\\Lib\\site-packages\\PIL\\Image.py:1054: UserWarning: Palette images with Transparency expressed in bytes should be converted to RGBA images\n",
      "  warnings.warn(\n"
     ]
    },
    {
     "name": "stdout",
     "output_type": "stream",
     "text": [
      "Epoch 07 | Train Acc: 0.9206 | Val Acc: 0.8188\n"
     ]
    },
    {
     "name": "stderr",
     "output_type": "stream",
     "text": [
      "d:\\sadia\\resnet\\model\\venv\\Lib\\site-packages\\PIL\\Image.py:1054: UserWarning: Palette images with Transparency expressed in bytes should be converted to RGBA images\n",
      "  warnings.warn(\n"
     ]
    },
    {
     "name": "stdout",
     "output_type": "stream",
     "text": [
      "Epoch 08 | Train Acc: 0.9275 | Val Acc: 0.8230\n"
     ]
    },
    {
     "name": "stderr",
     "output_type": "stream",
     "text": [
      "d:\\sadia\\resnet\\model\\venv\\Lib\\site-packages\\PIL\\Image.py:1054: UserWarning: Palette images with Transparency expressed in bytes should be converted to RGBA images\n",
      "  warnings.warn(\n"
     ]
    },
    {
     "name": "stdout",
     "output_type": "stream",
     "text": [
      "Epoch 09 | Train Acc: 0.9142 | Val Acc: 0.7868\n"
     ]
    },
    {
     "name": "stderr",
     "output_type": "stream",
     "text": [
      "d:\\sadia\\resnet\\model\\venv\\Lib\\site-packages\\PIL\\Image.py:1054: UserWarning: Palette images with Transparency expressed in bytes should be converted to RGBA images\n",
      "  warnings.warn(\n"
     ]
    },
    {
     "name": "stdout",
     "output_type": "stream",
     "text": [
      "Epoch 10 | Train Acc: 0.9451 | Val Acc: 0.7974\n",
      "✅ Best model saved to best_resnet18_noaug.pth\n"
     ]
    },
    {
     "name": "stderr",
     "output_type": "stream",
     "text": [
      "d:\\sadia\\resnet\\model\\venv\\Lib\\site-packages\\PIL\\Image.py:1054: UserWarning: Palette images with Transparency expressed in bytes should be converted to RGBA images\n",
      "  warnings.warn(\n"
     ]
    },
    {
     "name": "stdout",
     "output_type": "stream",
     "text": [
      "\n",
      "📁 Results saved to results.csv\n"
     ]
    }
   ],
   "source": [
    "import torch\n",
    "import torch.nn as nn\n",
    "from torchvision import models, transforms, datasets\n",
    "from torch.utils.data import DataLoader, random_split\n",
    "from sklearn.metrics import precision_score, recall_score, f1_score, roc_auc_score, mean_squared_error\n",
    "import numpy as np\n",
    "import os\n",
    "import random\n",
    "from PIL import Image\n",
    "from math import sqrt\n",
    "import csv\n",
    "\n",
    "# -------- CONFIGURATION FLAGS --------\n",
    "USE_AUGMENTATION = False  # 🔁 Set this to True to enable data augmentation\n",
    "\n",
    "# -------- PARAMETERS --------\n",
    "dataset_path = \"dataset\"\n",
    "img_size = 128\n",
    "batch_size = 32\n",
    "epochs = 10\n",
    "learning_rate = 0.001\n",
    "seed = 42\n",
    "num_classes = 3\n",
    "device = torch.device('cuda' if torch.cuda.is_available() else 'cpu')\n",
    "class_names = ['dry', 'normal', 'oily']\n",
    "\n",
    "torch.manual_seed(seed)\n",
    "np.random.seed(seed)\n",
    "random.seed(seed)\n",
    "\n",
    "# -------- TRANSFORMS --------\n",
    "normalize = transforms.Normalize([0.485, 0.456, 0.406],\n",
    "                                 [0.229, 0.224, 0.225])\n",
    "\n",
    "base_transform = transforms.Compose([\n",
    "    transforms.Resize((img_size, img_size)),\n",
    "    transforms.ToTensor(),\n",
    "    normalize\n",
    "])\n",
    "\n",
    "augment_transform = transforms.Compose([\n",
    "    transforms.Resize((img_size, img_size)),\n",
    "    transforms.RandomHorizontalFlip(),\n",
    "    transforms.RandomRotation(10),\n",
    "    transforms.ColorJitter(brightness=0.2, contrast=0.2),\n",
    "    transforms.ToTensor(),\n",
    "    normalize\n",
    "])\n",
    "\n",
    "# -------- LOAD DATA --------\n",
    "full_dataset = datasets.ImageFolder(root=dataset_path, transform=base_transform)\n",
    "augmented_dataset = datasets.ImageFolder(root=dataset_path, transform=augment_transform)\n",
    "\n",
    "total_len = len(full_dataset)\n",
    "train_len = int(0.8 * total_len)\n",
    "test_len = total_len - train_len\n",
    "\n",
    "train_base, test_base = random_split(full_dataset, [train_len, test_len])\n",
    "train_aug, _ = random_split(augmented_dataset, [train_len, test_len])\n",
    "\n",
    "# -------- DATALOADERS --------\n",
    "def get_loaders(use_augmented):\n",
    "    train_data = train_aug if use_augmented else train_base\n",
    "    train_loader = DataLoader(train_data, batch_size=batch_size, shuffle=True)\n",
    "    val_loader = DataLoader(test_base, batch_size=batch_size, shuffle=False)\n",
    "    return train_loader, val_loader\n",
    "\n",
    "# -------- MODEL --------\n",
    "def get_model():\n",
    "    model = models.resnet18(pretrained=True)\n",
    "    for param in model.parameters():\n",
    "        param.requires_grad = True\n",
    "    model.fc = nn.Sequential(\n",
    "        nn.Linear(model.fc.in_features, 128),\n",
    "        nn.ReLU(),\n",
    "        nn.Dropout(0.3),\n",
    "        nn.Linear(128, num_classes)\n",
    "    )\n",
    "    return model.to(device)\n",
    "\n",
    "# -------- METRICS --------\n",
    "def calculate_metrics(y_true, y_pred, average='macro'):\n",
    "    precision = precision_score(y_true, y_pred, average=average, zero_division=0)\n",
    "    recall = recall_score(y_true, y_pred, average=average, zero_division=0)\n",
    "    f1 = f1_score(y_true, y_pred, average=average, zero_division=0)\n",
    "    rmse = sqrt(mean_squared_error(y_true, y_pred))\n",
    "    try:\n",
    "        roc_auc = roc_auc_score(torch.nn.functional.one_hot(torch.tensor(y_true), num_classes=num_classes),\n",
    "                                torch.nn.functional.one_hot(torch.tensor(y_pred), num_classes=num_classes),\n",
    "                                average=average, multi_class='ovo')\n",
    "    except:\n",
    "        roc_auc = None\n",
    "    return precision, recall, f1, rmse, roc_auc\n",
    "\n",
    "# -------- TRAINING --------\n",
    "def train_model(use_augmented):\n",
    "    print(f\"\\n{'='*10} Training with {'Augmentation' if use_augmented else 'No Augmentation'} {'='*10}\")\n",
    "    train_loader, val_loader = get_loaders(use_augmented)\n",
    "    model = get_model()\n",
    "    criterion = nn.CrossEntropyLoss()\n",
    "    optimizer = torch.optim.Adam(model.parameters(), lr=learning_rate)\n",
    "    scheduler = torch.optim.lr_scheduler.StepLR(optimizer, step_size=5, gamma=0.5)\n",
    "\n",
    "    best_val_acc = 0\n",
    "    best_model_wts = None\n",
    "\n",
    "    for epoch in range(epochs):\n",
    "        model.train()\n",
    "        train_loss, train_correct, train_total = 0, 0, 0\n",
    "        train_preds, train_labels = [], []\n",
    "\n",
    "        for imgs, labels in train_loader:\n",
    "            imgs, labels = imgs.to(device), labels.to(device)\n",
    "            outputs = model(imgs)\n",
    "            loss = criterion(outputs, labels)\n",
    "\n",
    "            optimizer.zero_grad()\n",
    "            loss.backward()\n",
    "            optimizer.step()\n",
    "\n",
    "            train_loss += loss.item()\n",
    "            _, preds = torch.max(outputs, 1)\n",
    "            train_preds.extend(preds.cpu().numpy())\n",
    "            train_labels.extend(labels.cpu().numpy())\n",
    "            train_correct += (preds == labels).sum().item()\n",
    "            train_total += labels.size(0)\n",
    "\n",
    "        train_acc = train_correct / train_total\n",
    "        train_precision, train_recall, train_f1, train_rmse, train_roc_auc = calculate_metrics(train_labels, train_preds)\n",
    "\n",
    "        model.eval()\n",
    "        val_correct, val_total = 0, 0\n",
    "        val_preds, val_labels = [], []\n",
    "\n",
    "        with torch.no_grad():\n",
    "            for imgs, labels in val_loader:\n",
    "                imgs, labels = imgs.to(device), labels.to(device)\n",
    "                outputs = model(imgs)\n",
    "                _, preds = torch.max(outputs, 1)\n",
    "                val_preds.extend(preds.cpu().numpy())\n",
    "                val_labels.extend(labels.cpu().numpy())\n",
    "                val_correct += (preds == labels).sum().item()\n",
    "                val_total += labels.size(0)\n",
    "\n",
    "        val_acc = val_correct / val_total\n",
    "        val_loss = 0  # Optional\n",
    "        val_precision, val_recall, val_f1, val_rmse, val_roc_auc = calculate_metrics(val_labels, val_preds)\n",
    "\n",
    "        scheduler.step()\n",
    "\n",
    "        print(f\"Epoch {epoch+1:02d} | Train Acc: {train_acc:.4f} | Val Acc: {val_acc:.4f}\")\n",
    "\n",
    "        if val_acc > best_val_acc:\n",
    "            best_val_acc = val_acc\n",
    "            best_model_wts = model.state_dict()\n",
    "\n",
    "    model.load_state_dict(best_model_wts)\n",
    "    save_path = f\"best_resnet18_{'aug' if use_augmented else 'noaug'}.pth\"\n",
    "    torch.save(model.state_dict(), save_path)\n",
    "    print(f\"✅ Best model saved to {save_path}\")\n",
    "\n",
    "    # -------- TESTING --------\n",
    "    test_loader = DataLoader(test_base, batch_size=batch_size, shuffle=False)\n",
    "    test_preds, test_labels = [], []\n",
    "\n",
    "    model.eval()\n",
    "    with torch.no_grad():\n",
    "        for imgs, labels in test_loader:\n",
    "            imgs, labels = imgs.to(device), labels.to(device)\n",
    "            outputs = model(imgs)\n",
    "            _, preds = torch.max(outputs, 1)\n",
    "            test_preds.extend(preds.cpu().numpy())\n",
    "            test_labels.extend(labels.cpu().numpy())\n",
    "\n",
    "    test_correct = sum(np.array(test_preds) == np.array(test_labels))\n",
    "    test_acc = test_correct / len(test_labels)\n",
    "    test_precision, test_recall, test_f1, test_rmse, test_roc_auc = calculate_metrics(test_labels, test_preds)\n",
    "\n",
    "    # -------- RESULT DICT --------\n",
    "    result = {\n",
    "        'Epochs': epochs,\n",
    "        'Batch Size': batch_size,\n",
    "        'Learning Rate': learning_rate,\n",
    "        'Optimizer': 'Adam',\n",
    "        'Train Accuracy': round(train_acc, 4),\n",
    "        'Validation Accuracy': round(val_acc, 4),\n",
    "        'Test Accuracy': round(test_acc, 4),\n",
    "        'Test Precision': round(test_precision, 4),\n",
    "        'Test Recall': round(test_recall, 4),\n",
    "        'Test F1 Score': round(test_f1, 4),\n",
    "        'Test ROC AUC': round(test_roc_auc, 4) if test_roc_auc else None,\n",
    "        'Test RMSE': round(test_rmse, 4),\n",
    "        'Augmented': use_augmented\n",
    "    }\n",
    "\n",
    "    # -------- SAVE TO CSV --------\n",
    "    csv_file = 'results.csv'\n",
    "    write_header = not os.path.exists(csv_file)\n",
    "\n",
    "    with open(csv_file, 'a', newline='') as csvfile:\n",
    "        writer = csv.DictWriter(csvfile, fieldnames=result.keys())\n",
    "        if write_header:\n",
    "            writer.writeheader()\n",
    "        writer.writerow(result)\n",
    "\n",
    "    print(\"\\n📁 Results saved to results.csv\")\n",
    "    return model\n",
    "\n",
    "# -------- PREDICT SINGLE IMAGE --------\n",
    "def predict_skin_type(model_path, image_path):\n",
    "    model = get_model()\n",
    "    model.load_state_dict(torch.load(model_path, map_location=device))\n",
    "    model.eval()\n",
    "\n",
    "    transform = transforms.Compose([\n",
    "        transforms.Resize((img_size, img_size)),\n",
    "        transforms.ToTensor(),\n",
    "        normalize\n",
    "    ])\n",
    "\n",
    "    image = Image.open(image_path).convert('RGB')\n",
    "    image = transform(image).unsqueeze(0).to(device)\n",
    "\n",
    "    with torch.no_grad():\n",
    "        output = model(image)\n",
    "        _, predicted = torch.max(output, 1)\n",
    "\n",
    "    return class_names[predicted.item()]\n",
    "\n",
    "# -------- MAIN --------\n",
    "if __name__ == '__main__':\n",
    "    trained_model = train_model(USE_AUGMENTATION)\n"
   ]
  },
  {
   "cell_type": "code",
   "execution_count": null,
   "id": "8c83dd6c",
   "metadata": {},
   "outputs": [],
   "source": []
  }
 ],
 "metadata": {
  "kernelspec": {
   "display_name": "venv",
   "language": "python",
   "name": "python3"
  },
  "language_info": {
   "codemirror_mode": {
    "name": "ipython",
    "version": 3
   },
   "file_extension": ".py",
   "mimetype": "text/x-python",
   "name": "python",
   "nbconvert_exporter": "python",
   "pygments_lexer": "ipython3",
   "version": "3.11.4"
  }
 },
 "nbformat": 4,
 "nbformat_minor": 5
}
