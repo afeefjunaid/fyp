{
 "cells": [
  {
   "cell_type": "code",
   "execution_count": 2,
   "id": "da97006a-d924-47f5-9122-e6669307b011",
   "metadata": {},
   "outputs": [],
   "source": [
    "import os\n",
    "import copy\n",
    "import time\n",
    "import torch\n",
    "import torch.nn as nn\n",
    "import torch.optim as optim\n",
    "from torchvision import datasets, models, transforms\n",
    "from torch.utils.data import random_split, DataLoader\n",
    "from sklearn.metrics import classification_report"
   ]
  },
  {
   "cell_type": "code",
   "execution_count": 3,
   "id": "086d0405-8e69-4869-9ea7-2d7d647fa670",
   "metadata": {},
   "outputs": [],
   "source": [
    "# Configs\n",
    "data_dir = 'dataset'\n",
    "batch_size = 32\n",
    "num_epochs = 10\n",
    "learning_rate = 0.001\n",
    "device = torch.device(\"cuda\" if torch.cuda.is_available() else \"cpu\")\n",
    "model_save_path = 'best_model.pth'\n",
    "num_classes = 3  # dry, normal, oily"
   ]
  },
  {
   "cell_type": "code",
   "execution_count": 4,
   "id": "50003fd7",
   "metadata": {},
   "outputs": [],
   "source": [
    "# Transforms\n",
    "mean = [0.485, 0.456, 0.406]  # ImageNet mean\n",
    "std = [0.229, 0.224, 0.225]   # ImageNet std"
   ]
  },
  {
   "cell_type": "code",
   "execution_count": 5,
   "id": "1692c638",
   "metadata": {},
   "outputs": [],
   "source": [
    "# With augmentation\n",
    "data_transforms_aug = {\n",
    "    'train': transforms.Compose([\n",
    "        transforms.Resize((224, 224)),\n",
    "        transforms.RandomHorizontalFlip(),\n",
    "        transforms.RandomRotation(15),\n",
    "        transforms.ColorJitter(brightness=0.2, contrast=0.2),\n",
    "        transforms.ToTensor(),\n",
    "        transforms.Normalize(mean, std)\n",
    "    ]),\n",
    "    'val': transforms.Compose([\n",
    "        transforms.Resize((224, 224)),\n",
    "        transforms.ToTensor(),\n",
    "        transforms.Normalize(mean, std)\n",
    "    ])\n",
    "}"
   ]
  },
  {
   "cell_type": "code",
   "execution_count": 6,
   "id": "e9a8b3be",
   "metadata": {},
   "outputs": [],
   "source": [
    "# Without augmentation\n",
    "data_transforms_plain = {\n",
    "    'train': transforms.Compose([\n",
    "        transforms.Resize((224, 224)),\n",
    "        transforms.ToTensor(),\n",
    "        transforms.Normalize(mean, std)\n",
    "    ]),\n",
    "    'val': transforms.Compose([\n",
    "        transforms.Resize((224, 224)),\n",
    "        transforms.ToTensor(),\n",
    "        transforms.Normalize(mean, std)\n",
    "    ])\n",
    "}"
   ]
  },
  {
   "cell_type": "code",
   "execution_count": 7,
   "id": "83a8e0d3",
   "metadata": {},
   "outputs": [],
   "source": [
    "def load_datasets(transforms_dict):\n",
    "    full_dataset = datasets.ImageFolder(data_dir, transform=transforms_dict['train'])\n",
    "    val_dataset = datasets.ImageFolder(data_dir, transform=transforms_dict['val'])\n",
    "\n",
    "    train_size = int(0.8 * len(full_dataset))\n",
    "    val_size = len(full_dataset) - train_size\n",
    "\n",
    "    train_dataset, val_dataset = random_split(full_dataset, [train_size, val_size])\n",
    "\n",
    "    train_loader = DataLoader(train_dataset, batch_size=batch_size, shuffle=True)\n",
    "    val_loader = DataLoader(val_dataset, batch_size=batch_size, shuffle=False)\n",
    "\n",
    "    return train_loader, val_loader"
   ]
  },
  {
   "cell_type": "code",
   "execution_count": 9,
   "id": "ad18e23c",
   "metadata": {},
   "outputs": [],
   "source": [
    "def train_model(model, dataloaders, criterion, optimizer, scheduler, num_epochs, mode_name):\n",
    "    best_model_wts = copy.deepcopy(model.state_dict())\n",
    "    best_acc = 0.0\n",
    "\n",
    "    for epoch in range(num_epochs):\n",
    "        print(f'\\n[{mode_name}] Epoch {epoch + 1}/{num_epochs}')\n",
    "        for phase in ['train', 'val']:\n",
    "            if phase == 'train':\n",
    "                model.train()\n",
    "            else:\n",
    "                model.eval()\n",
    "\n",
    "            running_loss = 0.0\n",
    "            running_corrects = 0\n",
    "\n",
    "            for inputs, labels in dataloaders[phase]:\n",
    "                inputs, labels = inputs.to(device), labels.to(device)\n",
    "                optimizer.zero_grad()\n",
    "\n",
    "                with torch.set_grad_enabled(phase == 'train'):\n",
    "                    outputs = model(inputs)\n",
    "                    loss = criterion(outputs, labels)\n",
    "                    _, preds = torch.max(outputs, 1)\n",
    "\n",
    "                    if phase == 'train':\n",
    "                        loss.backward()\n",
    "                        optimizer.step()\n",
    "\n",
    "                running_loss += loss.item() * inputs.size(0)\n",
    "                running_corrects += torch.sum(preds == labels.data)\n",
    "\n",
    "            epoch_loss = running_loss / len(dataloaders[phase].dataset)\n",
    "            epoch_acc = running_corrects.double() / len(dataloaders[phase].dataset)\n",
    "\n",
    "            print(f'{phase.capitalize()} Loss: {epoch_loss:.4f} Acc: {epoch_acc:.4f}')\n",
    "\n",
    "            # Save best model\n",
    "            if phase == 'val' and epoch_acc > best_acc:\n",
    "                best_acc = epoch_acc\n",
    "                best_model_wts = copy.deepcopy(model.state_dict())\n",
    "                torch.save(model.state_dict(), model_save_path)\n",
    "                print(\"✅ Saved Best Model\")\n",
    "\n",
    "        scheduler.step()\n",
    "        \n",
    "    print(f'\\nBest Validation Acc: {best_acc:.4f}')\n",
    "    model.load_state_dict(best_model_wts)\n",
    "    return model"
   ]
  },
  {
   "cell_type": "code",
   "execution_count": 10,
   "id": "b1a0e1c6",
   "metadata": {},
   "outputs": [],
   "source": [
    "def test_model(model, dataloader):\n",
    "    model.eval()\n",
    "    all_preds, all_labels = [], []\n",
    "\n",
    "    with torch.no_grad():\n",
    "        for inputs, labels in dataloader:\n",
    "            inputs, labels = inputs.to(device), labels.to(device)\n",
    "            outputs = model(inputs)\n",
    "            _, preds = torch.max(outputs, 1)\n",
    "            all_preds.extend(preds.cpu().numpy())\n",
    "            all_labels.extend(labels.cpu().numpy())\n",
    "\n",
    "    print(\"\\nClassification Report:\")\n",
    "    print(classification_report(all_labels, all_preds, target_names=['dry', 'normal', 'oily']))"
   ]
  },
  {
   "cell_type": "code",
   "execution_count": 11,
   "id": "dcc49fad",
   "metadata": {},
   "outputs": [],
   "source": [
    "# Function to run entire training\n",
    "def run_pipeline(use_aug=True):\n",
    "    print(\"\\n\" + \"=\" * 60)\n",
    "    print(\"Using Augmentation\" if use_aug else \"Without Augmentation\")\n",
    "    print(\"=\" * 60)\n",
    "\n",
    "    transforms_dict = data_transforms_aug if use_aug else data_transforms_plain\n",
    "    train_loader, val_loader = load_datasets(transforms_dict)\n",
    "    dataloaders = {'train': train_loader, 'val': val_loader}\n",
    "\n",
    "    # Load pretrained ResNet18\n",
    "    model_ft = models.resnet18(weights=models.ResNet18_Weights.IMAGENET1K_V1)\n",
    "    num_ftrs = model_ft.fc.in_features\n",
    "    model_ft.fc = nn.Linear(num_ftrs, num_classes)\n",
    "    model_ft = model_ft.to(device)\n",
    "\n",
    "    criterion = nn.CrossEntropyLoss()\n",
    "    optimizer = optim.Adam(model_ft.parameters(), lr=learning_rate)\n",
    "    scheduler = optim.lr_scheduler.StepLR(optimizer, step_size=5, gamma=0.1)\n",
    "\n",
    "    model_ft = train_model(model_ft, dataloaders, criterion, optimizer, scheduler, num_epochs,\n",
    "                           mode_name=\"Aug\" if use_aug else \"Plain\")\n",
    "\n",
    "    # Test model\n",
    "    print(\"\\nTesting on Test Set\")\n",
    "    _, test_loader = load_datasets(transforms_dict)\n",
    "    test_model(model_ft, test_loader)"
   ]
  },
  {
   "cell_type": "code",
   "execution_count": 12,
   "id": "d0373c1e",
   "metadata": {},
   "outputs": [
    {
     "name": "stdout",
     "output_type": "stream",
     "text": [
      "\n",
      "============================================================\n",
      "Without Augmentation\n",
      "============================================================\n"
     ]
    },
    {
     "name": "stderr",
     "output_type": "stream",
     "text": [
      "Downloading: \"https://download.pytorch.org/models/resnet18-f37072fd.pth\" to C:\\Users\\hp/.cache\\torch\\hub\\checkpoints\\resnet18-f37072fd.pth\n",
      "100.0%\n"
     ]
    },
    {
     "name": "stdout",
     "output_type": "stream",
     "text": [
      "\n",
      "[Plain] Epoch 1/10\n"
     ]
    },
    {
     "name": "stderr",
     "output_type": "stream",
     "text": [
      "d:\\sadia\\resnet\\model\\venv\\Lib\\site-packages\\PIL\\Image.py:1054: UserWarning: Palette images with Transparency expressed in bytes should be converted to RGBA images\n",
      "  warnings.warn(\n"
     ]
    },
    {
     "name": "stdout",
     "output_type": "stream",
     "text": [
      "Train Loss: 0.6722 Acc: 0.7265\n",
      "Val Loss: 0.7975 Acc: 0.7377\n",
      "✅ Saved Best Model\n",
      "\n",
      "[Plain] Epoch 2/10\n",
      "Train Loss: 0.5022 Acc: 0.7793\n",
      "Val Loss: 0.5972 Acc: 0.7761\n",
      "✅ Saved Best Model\n",
      "\n",
      "[Plain] Epoch 3/10\n",
      "Train Loss: 0.4554 Acc: 0.8161\n",
      "Val Loss: 0.7588 Acc: 0.7143\n",
      "\n",
      "[Plain] Epoch 4/10\n",
      "Train Loss: 0.4440 Acc: 0.8198\n",
      "Val Loss: 0.6519 Acc: 0.7399\n",
      "\n",
      "[Plain] Epoch 5/10\n",
      "Train Loss: 0.4168 Acc: 0.8342\n",
      "Val Loss: 0.5673 Acc: 0.7719\n",
      "\n",
      "[Plain] Epoch 6/10\n",
      "Train Loss: 0.2870 Acc: 0.8897\n",
      "Val Loss: 0.4401 Acc: 0.8465\n",
      "✅ Saved Best Model\n",
      "\n",
      "[Plain] Epoch 7/10\n",
      "Train Loss: 0.2206 Acc: 0.9174\n",
      "Val Loss: 0.4347 Acc: 0.8401\n",
      "\n",
      "[Plain] Epoch 8/10\n",
      "Train Loss: 0.1772 Acc: 0.9366\n",
      "Val Loss: 0.4615 Acc: 0.8443\n",
      "\n",
      "[Plain] Epoch 9/10\n",
      "Train Loss: 0.1420 Acc: 0.9462\n",
      "Val Loss: 0.4609 Acc: 0.8614\n",
      "✅ Saved Best Model\n",
      "\n",
      "[Plain] Epoch 10/10\n",
      "Train Loss: 0.1237 Acc: 0.9590\n",
      "Val Loss: 0.4735 Acc: 0.8550\n",
      "\n",
      "Best Validation Acc: 0.8614\n",
      "\n",
      "Testing on Test Set\n",
      "\n",
      "Classification Report:\n",
      "              precision    recall  f1-score   support\n",
      "\n",
      "         dry       0.94      0.95      0.94       142\n",
      "      normal       0.98      0.95      0.97       191\n",
      "        oily       0.89      0.92      0.90       136\n",
      "\n",
      "    accuracy                           0.94       469\n",
      "   macro avg       0.94      0.94      0.94       469\n",
      "weighted avg       0.94      0.94      0.94       469\n",
      "\n"
     ]
    }
   ],
   "source": [
    "run_pipeline(use_aug=False)"
   ]
  },
  {
   "cell_type": "code",
   "execution_count": null,
   "id": "24fa44e7",
   "metadata": {},
   "outputs": [],
   "source": []
  },
  {
   "cell_type": "code",
   "execution_count": null,
   "id": "15e5975b",
   "metadata": {},
   "outputs": [],
   "source": []
  }
 ],
 "metadata": {
  "kernelspec": {
   "display_name": "venv",
   "language": "python",
   "name": "python3"
  },
  "language_info": {
   "codemirror_mode": {
    "name": "ipython",
    "version": 3
   },
   "file_extension": ".py",
   "mimetype": "text/x-python",
   "name": "python",
   "nbconvert_exporter": "python",
   "pygments_lexer": "ipython3",
   "version": "3.11.4"
  }
 },
 "nbformat": 4,
 "nbformat_minor": 5
}
