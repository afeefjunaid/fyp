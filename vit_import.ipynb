{
 "cells": [
  {
   "cell_type": "code",
   "execution_count": null,
   "id": "6060b034",
   "metadata": {},
   "outputs": [],
   "source": [
    "import torch\n",
    "from timm import create_model\n",
    "from torchvision import transforms\n",
    "from PIL import Image\n",
    "import os\n",
    "\n",
    "# Load ViT pretrained on ImageNet\n",
    "model = create_model('vit_base_patch16_224', pretrained=True)\n",
    "model.eval()\n",
    "\n",
    "\n",
    "#image = Image.open(\"../fyp/skinType/patches128x128\")\n",
    "transform = transforms.Compose([\n",
    "    transforms.Resize((224, 224)),\n",
    "    transforms.ToTensor(),\n",
    "    transforms.Normalize(mean=(0.5, 0.5, 0.5), std=(0.5, 0.5, 0.5)),\n",
    "])\n",
    "root_folder = \"./skintypepatches 128x128\"\n",
    "for subfolder in os.listdir(root_folder):\n",
    "    subfolder_path = os.path.join(root_folder, subfolder)\n",
    "    if os.path.isdir(subfolder_path):\n",
    "        for filename in os.listdir(subfolder_path):\n",
    "            img_path = os.path.join(subfolder_path, filename)\n",
    "            if os.path.isfile(img_path) and filename.endswith((\".jpg\", \".png\", \".jpeg\")):\n",
    "                try:\n",
    "                    image = Image.open(img_path).convert(\"RGB\")\n",
    "                    img_tensor = transform(image).unsqueeze(0)\n",
    "                    print(f\"Processed: {img_path}\")\n",
    "                except Exception as e:\n",
    "                    print(f\"Error processing {img_path}: {e}\")\n",
    "# Inference\n",
    "with torch.no_grad():\n",
    "    logits = model(img_tensor)\n",
    "\n",
    "print(\"Logits shape:\", logits.shape)  # [1, 1000] for 1000 ImageNet classes\n"
   ]
  },
  {
   "cell_type": "code",
   "execution_count": null,
   "id": "29956b01",
   "metadata": {},
   "outputs": [],
   "source": [
    "\n",
    "for epoch in range(100,500,20):\n",
    "    print()"
   ]
  }
 ],
 "metadata": {
  "kernelspec": {
   "display_name": ".venv",
   "language": "python",
   "name": "python3"
  },
  "language_info": {
   "codemirror_mode": {
    "name": "ipython",
    "version": 3
   },
   "file_extension": ".py",
   "mimetype": "text/x-python",
   "name": "python",
   "nbconvert_exporter": "python",
   "pygments_lexer": "ipython3",
   "version": "3.12.10"
  }
 },
 "nbformat": 4,
 "nbformat_minor": 5
}
