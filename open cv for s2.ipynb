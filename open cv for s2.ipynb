{
 "cells": [
  {
   "cell_type": "code",
   "execution_count": 11,
   "id": "42ee071c-8503-4b3e-9cef-0dc227bec360",
   "metadata": {},
   "outputs": [],
   "source": [
    "import cv2\n",
    "import os\n",
    "import shutil"
   ]
  },
  {
   "cell_type": "code",
   "execution_count": 12,
   "id": "dbc37940-09b8-4f99-9ddf-702f986b1cec",
   "metadata": {},
   "outputs": [],
   "source": [
    "# 1. Path to your patches and where to move “good” ones\n",
    "PATCH_DIR    = \"phase1\"\n",
    "GOOD_DIR     = \"phase2\"\n",
    "os.makedirs(GOOD_DIR, exist_ok=True)"
   ]
  },
  {
   "cell_type": "code",
   "execution_count": 13,
   "id": "e1ae4f5f-da5f-4350-84fe-574d4c1995e8",
   "metadata": {},
   "outputs": [],
   "source": [
    "# Load cascades\n",
    "eye_cascade_path   = cv2.data.haarcascades + \"haarcascade_eye.xml\"\n",
    "smile_cascade_path = cv2.data.haarcascades + \"haarcascade_smile.xml\"\n",
    "\n",
    "eye_cascade   = cv2.CascadeClassifier(eye_cascade_path)\n",
    "mouth_cascade = cv2.CascadeClassifier(smile_cascade_path)"
   ]
  },
  {
   "cell_type": "code",
   "execution_count": 14,
   "id": "3fe7b5c3-4a8c-4d77-a421-340dd90b1e71",
   "metadata": {},
   "outputs": [],
   "source": [
    "# sanity check\n",
    "if eye_cascade.empty():\n",
    "    raise IOError(f\"Cannot load eye cascade at {eye_cascade_path}\")\n",
    "if mouth_cascade.empty():\n",
    "    raise IOError(f\"Cannot load smile cascade at {smile_cascade_path}\")"
   ]
  },
  {
   "cell_type": "code",
   "execution_count": 15,
   "id": "1d39c20b-e613-451f-b447-613170508ab7",
   "metadata": {},
   "outputs": [
    {
     "name": "stdout",
     "output_type": "stream",
     "text": [
      "Done – only-skin patches in: phase2\n"
     ]
    }
   ],
   "source": [
    "for fname in os.listdir(PATCH_DIR):\n",
    "    if not fname.lower().endswith((\".jpg\", \".png\")):\n",
    "        continue\n",
    "    img_path = os.path.join(PATCH_DIR, fname)\n",
    "    gray     = cv2.imread(img_path, cv2.IMREAD_GRAYSCALE)\n",
    "    if gray is None:\n",
    "        continue\n",
    "\n",
    "    # for eye detection\n",
    "    eyes = eye_cascade.detectMultiScale(\n",
    "        gray, scaleFactor=1.05, minNeighbors=3, minSize=(15, 15)\n",
    "    )\n",
    "    \n",
    "    # for lips/mouth detection\n",
    "    lips = mouth_cascade.detectMultiScale(\n",
    "        gray, scaleFactor=1.1, minNeighbors=3, minSize=(15, 15)\n",
    "    )\n",
    "\n",
    "    if len(eyes)==0 and len(lips)==0:\n",
    "        shutil.copy(img_path, os.path.join(GOOD_DIR, fname))\n",
    "\n",
    "print(\"Done – only-skin patches in:\", GOOD_DIR)"
   ]
  },
  {
   "cell_type": "code",
   "execution_count": null,
   "id": "c691b167-52c0-4517-8914-863435b75b74",
   "metadata": {},
   "outputs": [],
   "source": []
  }
 ],
 "metadata": {
  "kernelspec": {
   "display_name": "Python 3 (ipykernel)",
   "language": "python",
   "name": "python3"
  },
  "language_info": {
   "codemirror_mode": {
    "name": "ipython",
    "version": 3
   },
   "file_extension": ".py",
   "mimetype": "text/x-python",
   "name": "python",
   "nbconvert_exporter": "python",
   "pygments_lexer": "ipython3",
   "version": "3.11.4"
  }
 },
 "nbformat": 4,
 "nbformat_minor": 5
}
