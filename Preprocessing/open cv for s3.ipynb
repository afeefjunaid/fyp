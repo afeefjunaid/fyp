{
 "cells": [
  {
   "cell_type": "code",
   "execution_count": 11,
   "id": "42ee071c-8503-4b3e-9cef-0dc227bec360",
   "metadata": {},
   "outputs": [],
   "source": [
    "import cv2\n",
    "import os\n",
    "import shutil"
   ]
  },
  {
   "cell_type": "code",
   "execution_count": 16,
   "id": "dbc37940-09b8-4f99-9ddf-702f986b1cec",
   "metadata": {},
   "outputs": [],
   "source": [
    "# 1. Path to your patches and where to move “good” ones\n",
    "PATCH_DIR    = \"phase1\"\n",
    "GOOD_DIR     = \"phase2\"\n",
    "os.makedirs(GOOD_DIR, exist_ok=True)"
   ]
  },
  {
   "cell_type": "code",
   "execution_count": 17,
   "id": "e1ae4f5f-da5f-4350-84fe-574d4c1995e8",
   "metadata": {},
   "outputs": [],
   "source": [
    "# Load Haar cascades for detecting specific features\n",
    "eye_cascade   = cv2.CascadeClassifier(cv2.data.haarcascades + \"haarcascade_eye.xml\")\n",
    "mouth_cascade = cv2.CascadeClassifier(cv2.data.haarcascades + \"haarcascade_smile.xml\")"
   ]
  },
  {
   "cell_type": "code",
   "execution_count": 18,
   "id": "3fe7b5c3-4a8c-4d77-a421-340dd90b1e71",
   "metadata": {},
   "outputs": [],
   "source": [
    "# Ensure cascades loaded correctly\n",
    "if eye_cascade.empty() or mouth_cascade.empty():\n",
    "    raise IOError(\"Could not load one or more cascade files.\")\n"
   ]
  },
  {
   "cell_type": "code",
   "execution_count": 19,
   "id": "1d39c20b-e613-451f-b447-613170508ab7",
   "metadata": {},
   "outputs": [
    {
     "name": "stdout",
     "output_type": "stream",
     "text": [
      "✅ Done! Clean skin-only patches saved to: phase2\n"
     ]
    }
   ],
   "source": [
    "for fname in os.listdir(PATCH_DIR):\n",
    "    if not fname.lower().endswith((\".jpg\", \".png\", \".jpeg\")):\n",
    "        continue\n",
    "\n",
    "    img_path = os.path.join(PATCH_DIR, fname)\n",
    "    img = cv2.imread(img_path)\n",
    "    if img is None:\n",
    "        continue\n",
    "\n",
    "    # Convert to grayscale and upscale slightly to detect smaller features\n",
    "    gray = cv2.cvtColor(img, cv2.COLOR_BGR2GRAY)\n",
    "    resized = cv2.resize(gray, (256, 256))  # Upscale to improve small feature detection\n",
    "\n",
    "    # Detect eyes (including partial)\n",
    "    eyes = eye_cascade.detectMultiScale(\n",
    "        resized, scaleFactor=1.05, minNeighbors=3, minSize=(10, 10)\n",
    "    )\n",
    "\n",
    "    # Detect lips/mouth/smile/teeth\n",
    "    mouth = mouth_cascade.detectMultiScale(\n",
    "        resized, scaleFactor=1.1, minNeighbors=2, minSize=(10, 10)\n",
    "    )\n",
    "\n",
    "    # Delete image if any eyes or mouth features are detected\n",
    "    if len(eyes) == 0 and len(mouth) == 0:\n",
    "        shutil.copy(img_path, os.path.join(GOOD_DIR, fname))\n",
    "\n",
    "print(\"✅ Done! Clean skin-only patches saved to:\", GOOD_DIR)"
   ]
  },
  {
   "cell_type": "code",
   "execution_count": null,
   "id": "c691b167-52c0-4517-8914-863435b75b74",
   "metadata": {},
   "outputs": [],
   "source": []
  }
 ],
 "metadata": {
  "kernelspec": {
   "display_name": "Python 3 (ipykernel)",
   "language": "python",
   "name": "python3"
  },
  "language_info": {
   "codemirror_mode": {
    "name": "ipython",
    "version": 3
   },
   "file_extension": ".py",
   "mimetype": "text/x-python",
   "name": "python",
   "nbconvert_exporter": "python",
   "pygments_lexer": "ipython3",
   "version": "3.11.4"
  }
 },
 "nbformat": 4,
 "nbformat_minor": 5
}
